{
 "cells": [
  {
   "cell_type": "code",
   "execution_count": 112,
   "source": [
    "import sympy as sp\n",
    "import numpy as np\n",
    "import math\n",
    "\n",
    "__name__ = \"MacLaren\"\n",
    "\n",
    "def MacAppr(func, var, interval, error):\n",
    "    m_series = 0\n",
    "    limit_n  = 0\n",
    "\n",
    "    for t_current in np.arange(interval[0], interval[1] + error, error):\n",
    "        while (True):\n",
    "            m_series = 0\n",
    "            for m in range(limit_n): m_series += (sp.diff(func, var, m)).evalf(subs={var:0}) * t_current**m / math.factorial(m)\n",
    "            \n",
    "            if (abs(func.evalf(subs={var:t_current}) - m_series) < error): break\n",
    "            else: limit_n += 1\n",
    "\n",
    "    print('Число \\\"n\\\" для функции', func, 'на отрезке [', interval[0], ',', interval[1], '] равно', limit_n)\n",
    "\n",
    "\n",
    "def main():\n",
    "    #t = sp.Symbol('t') -> sp.exp(t)...\n",
    "    \n",
    "    #Input Data\n",
    "    MacAppr(sp.exp(sp.Symbol('t')), sp.Symbol('t'), [0,1],   10**(-3))\n",
    "    MacAppr(sp.sin(sp.Symbol('t')), sp.Symbol('t'), [0,1],   10**(-3))\n",
    "\n",
    "    MacAppr(sp.exp(sp.Symbol('t')), sp.Symbol('t'), [11,12], 10**(-3))\n",
    "    MacAppr(sp.sin(sp.Symbol('t')), sp.Symbol('t'), [11,12], 10**(-3))\n",
    "\n",
    "if __name__ == \"MacLaren\":\n",
    "    main()\n"
   ],
   "outputs": [
    {
     "output_type": "stream",
     "name": "stdout",
     "text": [
      "Число \"n\" для функции exp(t) на отрезке [ 0 , 1 ] равно 7\n",
      "Число \"n\" для функции sin(t) на отрезке [ 0 , 1 ] равно 6\n",
      "Число \"n\" для функции exp(t) на отрезке [ 11 , 12 ] равно 37\n",
      "Число \"n\" для функции sin(t) на отрезке [ 11 , 12 ] равно 36\n"
     ]
    }
   ],
   "metadata": {}
  },
  {
   "cell_type": "code",
   "execution_count": 127,
   "source": [
    "import matplotlib.pyplot as plot  \n",
    "import numpy as np\n",
    "\n",
    "__name__ = \"Horner\"\n",
    "\n",
    "def Horner(poly_coef, n, x):\n",
    "    result = poly_coef[0]\n",
    "    for i in range(1, n): result = result * x + poly_coef[i]\n",
    "    return result\n",
    "\n",
    "def main():\n",
    "    #Input Data\n",
    "    polynom  = [1, -18, 144, -672, 2016, -4032, 5376, -4608, 2304, -512]\n",
    "    interval = [1.92, 2.08]\n",
    "    step     = 10 ** (-4)\n",
    "    \n",
    "    x_array  = np.arange(interval[0], interval[1] + step, step)\n",
    "    \n",
    "    #Values\n",
    "    horner_value = Horner(polynom, len(polynom), x_array)\n",
    "    poly_value   = (x_array - 2)**9\n",
    "\n",
    "    #Graphs\n",
    "    plot.plot(x_array, horner_value)\n",
    "    plot.plot(x_array, poly_value)\n",
    "    plot.show()\n",
    "        \n",
    "if __name__ == \"Horner\":\n",
    "    main()"
   ],
   "outputs": [
    {
     "output_type": "display_data",
     "data": {
      "image/png": "[encoded data removed]",
      "text/plain": [
       "<Figure size 432x288 with 1 Axes>"
      ]
     },
     "metadata": {
      "needs_background": "light"
     }
    }
   ],
   "metadata": {}
  },
  {
   "cell_type": "code",
   "execution_count": null,
   "source": [
    "__name__ = \"EulerConst\"\n",
    "\n",
    "#Input data\n",
    "eul_const = 0                       #our  Euler's constant\n",
    "eul_real  = 0.57721566490153286061  #real Euler's constant\n",
    "inner_sum = 0                       #Inner sum\n",
    "max_appr  = 1                       #Zero iteration\n",
    "error     = 10**(-10)               #Error of calc\n",
    "\n",
    "while (abs(eul_real - eul_const) >= error):\n",
    "    \n",
    "    '''\n",
    "    As an option for n += 10, but it will take a longer time\n",
    "\n",
    "    for n in range(max_appr): inner_sum += 1/(n + 1)\n",
    "    inner_sum = 0\n",
    "\n",
    "    '''\n",
    "        \n",
    "    inner_sum += 1 / max_appr\n",
    "    max_appr  += 1\n",
    "    eul_const  = inner_sum - math.log1p(max_appr)\n",
    "\n",
    "print('Число n, при котором получилась приближенная константа:', max_appr)\n",
    "print('Реальная константа  (20 зн):', eul_real, '\\nКонстанта программы (10 зн):', eul_const)"
   ],
   "outputs": [],
   "metadata": {}
  }
 ],
 "metadata": {
  "orig_nbformat": 4,
  "language_info": {
   "name": "python",
   "version": "3.8.10",
   "mimetype": "text/x-python",
   "codemirror_mode": {
    "name": "ipython",
    "version": 3
   },
   "pygments_lexer": "ipython3",
   "nbconvert_exporter": "python",
   "file_extension": ".py"
  },
  "kernelspec": {
   "name": "python3",
   "display_name": "Python 3.8.10 64-bit"
  },
  "interpreter": {
   "hash": "916dbcbb3f70747c44a77c7bcd40155683ae19c65e1c03b4aa3499c5328201f1"
  }
 },
 "nbformat": 4,
 "nbformat_minor": 2
}